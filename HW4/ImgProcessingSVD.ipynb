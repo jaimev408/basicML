{
 "cells": [
  {
   "cell_type": "markdown",
   "metadata": {},
   "source": [
    "# Introduction"
   ]
  },
  {
   "cell_type": "markdown",
   "metadata": {},
   "source": [
    "This notebook will examine the concepts behind SVD via image processing procedures and number classification.\n",
    "\n",
    "The data I will use will be:\n",
    "- USPS handwritten number image dataset (https://www.kaggle.com/bistaumanga/usps-dataset)"
   ]
  },
  {
   "cell_type": "markdown",
   "metadata": {},
   "source": [
    "# Test SVD"
   ]
  },
  {
   "cell_type": "markdown",
   "metadata": {},
   "source": [
    "## Import Libraries"
   ]
  },
  {
   "cell_type": "code",
   "execution_count": 15,
   "metadata": {},
   "outputs": [],
   "source": [
    "import pandas as pd\n",
    "import numpy as np\n",
    "from scipy import linalg\n",
    "from IPython.display import display, HTML\n",
    "from IPython.display import Image\n",
    "from plotly.subplots import make_subplots\n",
    "import plotly.graph_objects as go\n",
    "import plotly.express as px"
   ]
  },
  {
   "cell_type": "markdown",
   "metadata": {},
   "source": [
    "## Test out SVD"
   ]
  },
  {
   "cell_type": "markdown",
   "metadata": {},
   "source": [
    "I will test scipy's SVD method by performing it both manually and with scipy on the matrix below:"
   ]
  },
  {
   "cell_type": "markdown",
   "metadata": {},
   "source": [
    "\\begin{bmatrix}\n",
    "  4 & 11 & 14 \\\\ 8 & 7 & -2\n",
    "\\end{bmatrix}"
   ]
  },
  {
   "cell_type": "code",
   "execution_count": 2,
   "metadata": {},
   "outputs": [
    {
     "name": "stdout",
     "output_type": "stream",
     "text": [
      "[[ 4 11 14]\n",
      " [ 8  7 -2]]\n"
     ]
    }
   ],
   "source": [
    "testMatrix = np.array([[4,11, 14],[8, 7, -2]])\n",
    "print(testMatrix)"
   ]
  },
  {
   "cell_type": "markdown",
   "metadata": {},
   "source": [
    "### Manual Test"
   ]
  },
  {
   "cell_type": "markdown",
   "metadata": {},
   "source": [
    "<b>Step 1</b><br><br> Find <b><i>A<sup>T</sup>A</b></i>"
   ]
  },
  {
   "cell_type": "code",
   "execution_count": 3,
   "metadata": {},
   "outputs": [
    {
     "name": "stdout",
     "output_type": "stream",
     "text": [
      "[[ 80 100  40]\n",
      " [100 170 140]\n",
      " [ 40 140 200]]\n"
     ]
    }
   ],
   "source": [
    "symmMatrix = np.transpose(testMatrix).dot(testMatrix)\n",
    "print(symmMatrix)"
   ]
  },
  {
   "cell_type": "markdown",
   "metadata": {},
   "source": [
    "<b>Step 2</b><br><br> Find eigenvalues and eigenvectors of <b><i>A<sup>T</sup>A</b></i> <br><p>Note: we're the economy version of SVD</p>"
   ]
  },
  {
   "cell_type": "code",
   "execution_count": 4,
   "metadata": {},
   "outputs": [
    {
     "name": "stdout",
     "output_type": "stream",
     "text": [
      "Eigenvalues: \n",
      "[360.  90.]\n",
      "Eigenvectors: \n",
      "[[-0.333 -0.667]\n",
      " [-0.667 -0.333]\n",
      " [-0.667  0.667]]\n"
     ]
    }
   ],
   "source": [
    "eigen = linalg.eig(symmMatrix)\n",
    "egnval = np.real(np.round(eigen[0][::2]))\n",
    "egnvec = np.round(eigen[1][:,::2], 3)\n",
    "print(\"Eigenvalues: \\n\" + str(egnval))\n",
    "print(\"Eigenvectors: \\n\" + str(egnvec))"
   ]
  },
  {
   "cell_type": "markdown",
   "metadata": {},
   "source": [
    "<b>Step 3</b><br><br> Find <b><i>U</sup>$\\Sigma$V<sup>T</b></i>"
   ]
  },
  {
   "cell_type": "code",
   "execution_count": 5,
   "metadata": {},
   "outputs": [
    {
     "name": "stdout",
     "output_type": "stream",
     "text": [
      "U: \n",
      "[[-0.949  0.317]\n",
      " [-0.316 -0.949]]\n",
      "Σ: \n",
      "[[18.974  0.   ]\n",
      " [ 0.     9.487]]\n",
      "Vᵀ: \n",
      "[[-0.333 -0.667 -0.667]\n",
      " [-0.667 -0.333  0.667]]\n"
     ]
    }
   ],
   "source": [
    "u = testMatrix.dot(egnvec).dot(np.diag(1/np.sqrt(egnval)))\n",
    "sigma = np.diag(np.sqrt(egnval))\n",
    "vT = np.transpose(egnvec)\n",
    "print(\"U: \\n\" + str(np.round(u, 3)))\n",
    "print(\"\\u03A3: \\n\" + str(np.round(sigma, 3)))\n",
    "print(\"Vᵀ: \\n\" + str((vT)))"
   ]
  },
  {
   "cell_type": "markdown",
   "metadata": {},
   "source": [
    "#### Check our work"
   ]
  },
  {
   "cell_type": "code",
   "execution_count": 6,
   "metadata": {},
   "outputs": [
    {
     "data": {
      "text/plain": [
       "array([[ 4., 11., 14.],\n",
       "       [ 8.,  7., -2.]])"
      ]
     },
     "execution_count": 6,
     "metadata": {},
     "output_type": "execute_result"
    }
   ],
   "source": [
    "A = (u.dot(sigma)).dot(vT)\n",
    "np.round(A)"
   ]
  },
  {
   "cell_type": "markdown",
   "metadata": {},
   "source": [
    "It's the same matrix we started with! Out SVD test was done correctly."
   ]
  },
  {
   "cell_type": "markdown",
   "metadata": {},
   "source": [
    "### Using the scipy Library"
   ]
  },
  {
   "cell_type": "code",
   "execution_count": 7,
   "metadata": {},
   "outputs": [
    {
     "data": {
      "text/plain": [
       "(array([[-0.9486833 , -0.31622777],\n",
       "        [-0.31622777,  0.9486833 ]]),\n",
       " array([18.97366596,  9.48683298]),\n",
       " array([[-0.33333333, -0.66666667, -0.66666667],\n",
       "        [ 0.66666667,  0.33333333, -0.66666667],\n",
       "        [-0.66666667,  0.66666667, -0.33333333]]))"
      ]
     },
     "execution_count": 7,
     "metadata": {},
     "output_type": "execute_result"
    }
   ],
   "source": [
    "linalg.svd(testMatrix)"
   ]
  },
  {
   "cell_type": "markdown",
   "metadata": {},
   "source": [
    "As we can see, the scipy library returns the same <b><i>U</sup>$\\Sigma$V<sup>T</b></i> (it returned an eigenvector associated with a zero singular component though)"
   ]
  },
  {
   "cell_type": "markdown",
   "metadata": {},
   "source": [
    "# Data Cleaning"
   ]
  },
  {
   "cell_type": "markdown",
   "metadata": {},
   "source": [
    "I will use pixel image data provided by USPS.\n",
    "\n",
    "\n",
    "The data has already been pre-processed somewhat by University of the Pacific's Data Science department, but you can find the full dataset here: https://www.kaggle.com/bistaumanga/usps-dataset.\n",
    "\n",
    "\n",
    "The data is already split as training and testing dataframes with around a 45/55 split."
   ]
  },
  {
   "cell_type": "code",
   "execution_count": 69,
   "metadata": {},
   "outputs": [],
   "source": [
    "trainx = pd.read_csv(\"./data/trainInput.csv\", header=None)\n",
    "trainy = pd.read_csv(\"./data/trainOutput.csv\", header = None)\n",
    "testx = pd.read_csv(\"./data/testInput.csv\", header = None)\n",
    "testy = pd.read_csv(\"./data/testOutput.csv\", header = None)"
   ]
  },
  {
   "cell_type": "markdown",
   "metadata": {},
   "source": [
    "#### Minor data exploration"
   ]
  },
  {
   "cell_type": "code",
   "execution_count": 70,
   "metadata": {
    "scrolled": true
   },
   "outputs": [
    {
     "data": {
      "text/html": [
       "<div>\n",
       "<style scoped>\n",
       "    .dataframe tbody tr th:only-of-type {\n",
       "        vertical-align: middle;\n",
       "    }\n",
       "\n",
       "    .dataframe tbody tr th {\n",
       "        vertical-align: top;\n",
       "    }\n",
       "\n",
       "    .dataframe thead th {\n",
       "        text-align: right;\n",
       "    }\n",
       "</style>\n",
       "<table border=\"1\" class=\"dataframe\">\n",
       "  <thead>\n",
       "    <tr style=\"text-align: right;\">\n",
       "      <th></th>\n",
       "      <th>0</th>\n",
       "      <th>1</th>\n",
       "      <th>2</th>\n",
       "      <th>3</th>\n",
       "      <th>4</th>\n",
       "      <th>5</th>\n",
       "      <th>6</th>\n",
       "      <th>7</th>\n",
       "      <th>8</th>\n",
       "      <th>9</th>\n",
       "      <th>...</th>\n",
       "      <th>1697</th>\n",
       "      <th>1698</th>\n",
       "      <th>1699</th>\n",
       "      <th>1700</th>\n",
       "      <th>1701</th>\n",
       "      <th>1702</th>\n",
       "      <th>1703</th>\n",
       "      <th>1704</th>\n",
       "      <th>1705</th>\n",
       "      <th>1706</th>\n",
       "    </tr>\n",
       "  </thead>\n",
       "  <tbody>\n",
       "    <tr>\n",
       "      <th>0</th>\n",
       "      <td>-1.0</td>\n",
       "      <td>-1.000</td>\n",
       "      <td>-1.0</td>\n",
       "      <td>-1.0</td>\n",
       "      <td>-1.0</td>\n",
       "      <td>-1.0</td>\n",
       "      <td>-1.000</td>\n",
       "      <td>-1.0</td>\n",
       "      <td>-1.0</td>\n",
       "      <td>-1.0</td>\n",
       "      <td>...</td>\n",
       "      <td>-1.000</td>\n",
       "      <td>-1.000</td>\n",
       "      <td>-1.0</td>\n",
       "      <td>-1.0</td>\n",
       "      <td>-1.0</td>\n",
       "      <td>-1.0</td>\n",
       "      <td>-1.0</td>\n",
       "      <td>-1.000</td>\n",
       "      <td>-1.0</td>\n",
       "      <td>-1.000</td>\n",
       "    </tr>\n",
       "    <tr>\n",
       "      <th>1</th>\n",
       "      <td>-1.0</td>\n",
       "      <td>-1.000</td>\n",
       "      <td>-1.0</td>\n",
       "      <td>-1.0</td>\n",
       "      <td>-1.0</td>\n",
       "      <td>-1.0</td>\n",
       "      <td>-1.000</td>\n",
       "      <td>-1.0</td>\n",
       "      <td>-1.0</td>\n",
       "      <td>-1.0</td>\n",
       "      <td>...</td>\n",
       "      <td>-1.000</td>\n",
       "      <td>-1.000</td>\n",
       "      <td>-1.0</td>\n",
       "      <td>-1.0</td>\n",
       "      <td>-1.0</td>\n",
       "      <td>-1.0</td>\n",
       "      <td>-1.0</td>\n",
       "      <td>-1.000</td>\n",
       "      <td>-1.0</td>\n",
       "      <td>-1.000</td>\n",
       "    </tr>\n",
       "    <tr>\n",
       "      <th>2</th>\n",
       "      <td>-1.0</td>\n",
       "      <td>-1.000</td>\n",
       "      <td>-1.0</td>\n",
       "      <td>-1.0</td>\n",
       "      <td>-1.0</td>\n",
       "      <td>-1.0</td>\n",
       "      <td>-1.000</td>\n",
       "      <td>-1.0</td>\n",
       "      <td>-1.0</td>\n",
       "      <td>-1.0</td>\n",
       "      <td>...</td>\n",
       "      <td>-1.000</td>\n",
       "      <td>-1.000</td>\n",
       "      <td>-1.0</td>\n",
       "      <td>-1.0</td>\n",
       "      <td>-1.0</td>\n",
       "      <td>-1.0</td>\n",
       "      <td>-1.0</td>\n",
       "      <td>-1.000</td>\n",
       "      <td>-1.0</td>\n",
       "      <td>-1.000</td>\n",
       "    </tr>\n",
       "    <tr>\n",
       "      <th>3</th>\n",
       "      <td>-1.0</td>\n",
       "      <td>-0.813</td>\n",
       "      <td>-1.0</td>\n",
       "      <td>-1.0</td>\n",
       "      <td>-1.0</td>\n",
       "      <td>-1.0</td>\n",
       "      <td>-0.830</td>\n",
       "      <td>-1.0</td>\n",
       "      <td>-1.0</td>\n",
       "      <td>-1.0</td>\n",
       "      <td>...</td>\n",
       "      <td>-1.000</td>\n",
       "      <td>-0.567</td>\n",
       "      <td>-1.0</td>\n",
       "      <td>-1.0</td>\n",
       "      <td>-1.0</td>\n",
       "      <td>-1.0</td>\n",
       "      <td>-1.0</td>\n",
       "      <td>-1.000</td>\n",
       "      <td>-1.0</td>\n",
       "      <td>-1.000</td>\n",
       "    </tr>\n",
       "    <tr>\n",
       "      <th>4</th>\n",
       "      <td>-1.0</td>\n",
       "      <td>-0.671</td>\n",
       "      <td>-1.0</td>\n",
       "      <td>-1.0</td>\n",
       "      <td>-1.0</td>\n",
       "      <td>-1.0</td>\n",
       "      <td>0.442</td>\n",
       "      <td>-1.0</td>\n",
       "      <td>-1.0</td>\n",
       "      <td>-1.0</td>\n",
       "      <td>...</td>\n",
       "      <td>-0.986</td>\n",
       "      <td>-0.064</td>\n",
       "      <td>-1.0</td>\n",
       "      <td>-1.0</td>\n",
       "      <td>-1.0</td>\n",
       "      <td>-1.0</td>\n",
       "      <td>-1.0</td>\n",
       "      <td>-0.948</td>\n",
       "      <td>-1.0</td>\n",
       "      <td>-0.338</td>\n",
       "    </tr>\n",
       "  </tbody>\n",
       "</table>\n",
       "<p>5 rows × 1707 columns</p>\n",
       "</div>"
      ],
      "text/plain": [
       "   0      1     2     3     4     5      6     7     8     9     ...   1697  \\\n",
       "0  -1.0 -1.000  -1.0  -1.0  -1.0  -1.0 -1.000  -1.0  -1.0  -1.0  ... -1.000   \n",
       "1  -1.0 -1.000  -1.0  -1.0  -1.0  -1.0 -1.000  -1.0  -1.0  -1.0  ... -1.000   \n",
       "2  -1.0 -1.000  -1.0  -1.0  -1.0  -1.0 -1.000  -1.0  -1.0  -1.0  ... -1.000   \n",
       "3  -1.0 -0.813  -1.0  -1.0  -1.0  -1.0 -0.830  -1.0  -1.0  -1.0  ... -1.000   \n",
       "4  -1.0 -0.671  -1.0  -1.0  -1.0  -1.0  0.442  -1.0  -1.0  -1.0  ... -0.986   \n",
       "\n",
       "    1698  1699  1700  1701  1702  1703   1704  1705   1706  \n",
       "0 -1.000  -1.0  -1.0  -1.0  -1.0  -1.0 -1.000  -1.0 -1.000  \n",
       "1 -1.000  -1.0  -1.0  -1.0  -1.0  -1.0 -1.000  -1.0 -1.000  \n",
       "2 -1.000  -1.0  -1.0  -1.0  -1.0  -1.0 -1.000  -1.0 -1.000  \n",
       "3 -0.567  -1.0  -1.0  -1.0  -1.0  -1.0 -1.000  -1.0 -1.000  \n",
       "4 -0.064  -1.0  -1.0  -1.0  -1.0  -1.0 -0.948  -1.0 -0.338  \n",
       "\n",
       "[5 rows x 1707 columns]"
      ]
     },
     "metadata": {},
     "output_type": "display_data"
    },
    {
     "data": {
      "text/html": [
       "<div>\n",
       "<style scoped>\n",
       "    .dataframe tbody tr th:only-of-type {\n",
       "        vertical-align: middle;\n",
       "    }\n",
       "\n",
       "    .dataframe tbody tr th {\n",
       "        vertical-align: top;\n",
       "    }\n",
       "\n",
       "    .dataframe thead th {\n",
       "        text-align: right;\n",
       "    }\n",
       "</style>\n",
       "<table border=\"1\" class=\"dataframe\">\n",
       "  <thead>\n",
       "    <tr style=\"text-align: right;\">\n",
       "      <th></th>\n",
       "      <th>0</th>\n",
       "      <th>1</th>\n",
       "      <th>2</th>\n",
       "      <th>3</th>\n",
       "      <th>4</th>\n",
       "      <th>5</th>\n",
       "      <th>6</th>\n",
       "      <th>7</th>\n",
       "      <th>8</th>\n",
       "      <th>9</th>\n",
       "      <th>...</th>\n",
       "      <th>1697</th>\n",
       "      <th>1698</th>\n",
       "      <th>1699</th>\n",
       "      <th>1700</th>\n",
       "      <th>1701</th>\n",
       "      <th>1702</th>\n",
       "      <th>1703</th>\n",
       "      <th>1704</th>\n",
       "      <th>1705</th>\n",
       "      <th>1706</th>\n",
       "    </tr>\n",
       "  </thead>\n",
       "  <tbody>\n",
       "    <tr>\n",
       "      <th>0</th>\n",
       "      <td>6</td>\n",
       "      <td>5</td>\n",
       "      <td>4</td>\n",
       "      <td>7</td>\n",
       "      <td>3</td>\n",
       "      <td>6</td>\n",
       "      <td>3</td>\n",
       "      <td>1</td>\n",
       "      <td>0</td>\n",
       "      <td>1</td>\n",
       "      <td>...</td>\n",
       "      <td>8</td>\n",
       "      <td>0</td>\n",
       "      <td>5</td>\n",
       "      <td>1</td>\n",
       "      <td>9</td>\n",
       "      <td>8</td>\n",
       "      <td>9</td>\n",
       "      <td>7</td>\n",
       "      <td>9</td>\n",
       "      <td>8</td>\n",
       "    </tr>\n",
       "  </tbody>\n",
       "</table>\n",
       "<p>1 rows × 1707 columns</p>\n",
       "</div>"
      ],
      "text/plain": [
       "   0     1     2     3     4     5     6     7     8     9     ...  1697  \\\n",
       "0     6     5     4     7     3     6     3     1     0     1  ...     8   \n",
       "\n",
       "   1698  1699  1700  1701  1702  1703  1704  1705  1706  \n",
       "0     0     5     1     9     8     9     7     9     8  \n",
       "\n",
       "[1 rows x 1707 columns]"
      ]
     },
     "metadata": {},
     "output_type": "display_data"
    },
    {
     "name": "stdout",
     "output_type": "stream",
     "text": [
      "train x shape: (256, 1707)\n",
      "train y shape: (1, 1707)\n",
      "test x shape: (256, 2007)\n",
      "test y shape: (1, 2007)\n"
     ]
    }
   ],
   "source": [
    "display(trainx.head())\n",
    "display(trainy)\n",
    "print(\"train x shape: \" + str(trainx.shape))\n",
    "print(\"train y shape: \" + str(trainy.shape))\n",
    "print(\"test x shape: \" + str(testx.shape))\n",
    "print(\"test y shape: \" + str(testy.shape))"
   ]
  },
  {
   "cell_type": "markdown",
   "metadata": {},
   "source": [
    "The data holds grayscale images of numbers sized at 16 x 16 pixels"
   ]
  },
  {
   "cell_type": "markdown",
   "metadata": {},
   "source": [
    "I will tranpose the train and test dataframes so that each image is a row and each feature is represented by the columns"
   ]
  },
  {
   "cell_type": "code",
   "execution_count": 71,
   "metadata": {},
   "outputs": [],
   "source": [
    "trainx = np.transpose(trainx).copy()\n",
    "trainy = np.transpose(trainy).copy()\n",
    "testx = np.transpose(testx).copy()\n",
    "testy = np.transpose(testy).copy()"
   ]
  },
  {
   "cell_type": "markdown",
   "metadata": {},
   "source": [
    "Now, I will separate the images by number"
   ]
  },
  {
   "cell_type": "code",
   "execution_count": 72,
   "metadata": {},
   "outputs": [],
   "source": [
    "dfs = []\n",
    "for i in np.sort(pd.unique(trainy.loc[:,0])):\n",
    "    dfs.append(trainx.loc[trainy.iloc[:, 0] == i])"
   ]
  },
  {
   "cell_type": "markdown",
   "metadata": {},
   "source": [
    "We'll pick 10 random numbers from each dataframe and print them to check our work"
   ]
  },
  {
   "cell_type": "code",
   "execution_count": 73,
   "metadata": {},
   "outputs": [
    {
     "data": {
      "image/png": "[encoded data removed]",
      "text/plain": [
       "<IPython.core.display.Image object>"
      ]
     },
     "execution_count": 73,
     "metadata": {},
     "output_type": "execute_result"
    }
   ],
   "source": [
    "import plotly.io as pio\n",
    "fig = make_subplots(rows=10, cols=10, shared_yaxes=True, shared_xaxes = True,subplot_titles =None, row_titles  = None)\n",
    "for col, df in enumerate(dfs):\n",
    "    rand = np.random.randint(0, len(dfs[col]), 10)\n",
    "    for row, idx in enumerate(rand):\n",
    "        fig.add_trace(px.imshow(df.iloc[idx,:].values.reshape((16, 16)), binary_string=True).data[0],\n",
    "              row=row + 1, col=col + 1)\n",
    "fig.update_layout(\n",
    "    margin=dict(l=20, r=20, t=20, b=20)\n",
    ")\n",
    "fig.update_xaxes(showticklabels=False)\n",
    "fig.update_yaxes(showticklabels=False)\n",
    "Image(fig.to_image(format=\"png\", width=400, height=400, scale=2, engine=\"kaleido\"))"
   ]
  },
  {
   "cell_type": "markdown",
   "metadata": {},
   "source": [
    "# Number Classification with SVD"
   ]
  },
  {
   "cell_type": "code",
   "execution_count": 40,
   "metadata": {},
   "outputs": [],
   "source": [
    "First we'll"
   ]
  },
  {
   "cell_type": "code",
   "execution_count": 74,
   "metadata": {
    "scrolled": true
   },
   "outputs": [
    {
     "data": {
      "text/plain": [
       "(256, 256)"
      ]
     },
     "execution_count": 74,
     "metadata": {},
     "output_type": "execute_result"
    }
   ],
   "source": [
    "linalg.svd(dfs[0])[2].shape"
   ]
  },
  {
   "cell_type": "code",
   "execution_count": 78,
   "metadata": {},
   "outputs": [
    {
     "data": {
      "text/plain": [
       "(256,)"
      ]
     },
     "execution_count": 78,
     "metadata": {},
     "output_type": "execute_result"
    }
   ],
   "source": [
    "testx.loc[0].values.shape"
   ]
  },
  {
   "cell_type": "code",
   "execution_count": 81,
   "metadata": {},
   "outputs": [
    {
     "data": {
      "text/plain": [
       "(256,)"
      ]
     },
     "execution_count": 81,
     "metadata": {},
     "output_type": "execute_result"
    }
   ],
   "source": [
    "np.linalg.inv(linalg.svd(dfs[0])[2]).dot(testx.loc[0]).shape"
   ]
  },
  {
   "cell_type": "code",
   "execution_count": 82,
   "metadata": {},
   "outputs": [],
   "source": [
    "testMatrix =  np.transpose(np.array([[0.56, 0.59, 0.56, 0.09, 0.09],[0.13, -0.03, 0.13, -0.69, -0.69]]))"
   ]
  },
  {
   "cell_type": "code",
   "execution_count": 83,
   "metadata": {},
   "outputs": [
    {
     "data": {
      "text/plain": [
       "array([[ 0.56,  0.13],\n",
       "       [ 0.59, -0.03],\n",
       "       [ 0.56,  0.13],\n",
       "       [ 0.09, -0.69],\n",
       "       [ 0.09, -0.69]])"
      ]
     },
     "execution_count": 83,
     "metadata": {},
     "output_type": "execute_result"
    }
   ],
   "source": [
    "testMatrix"
   ]
  },
  {
   "cell_type": "code",
   "execution_count": 95,
   "metadata": {},
   "outputs": [
    {
     "data": {
      "text/plain": [
       "(5, 2)"
      ]
     },
     "execution_count": 95,
     "metadata": {},
     "output_type": "execute_result"
    }
   ],
   "source": [
    "testMatrix.shape"
   ]
  },
  {
   "cell_type": "code",
   "execution_count": 89,
   "metadata": {},
   "outputs": [],
   "source": [
    "testInput = np.array([0,1,0,2,2])"
   ]
  },
  {
   "cell_type": "code",
   "execution_count": 90,
   "metadata": {},
   "outputs": [
    {
     "data": {
      "text/plain": [
       "array([ 0.95, -2.79])"
      ]
     },
     "execution_count": 90,
     "metadata": {},
     "output_type": "execute_result"
    }
   ],
   "source": [
    "testInput.dot(testMatrix)"
   ]
  },
  {
   "cell_type": "code",
   "execution_count": 103,
   "metadata": {},
   "outputs": [
    {
     "data": {
      "text/plain": [
       "array([ 0.96870748, -2.83066594])"
      ]
     },
     "execution_count": 103,
     "metadata": {},
     "output_type": "execute_result"
    }
   ],
   "source": [
    "np.linalg.pinv(testMatrix).dot(testInput)"
   ]
  },
  {
   "cell_type": "code",
   "execution_count": 105,
   "metadata": {},
   "outputs": [
    {
     "data": {
      "text/plain": [
       "array([0.17448962, 0.65645739, 0.17448962, 2.04034317, 2.04034317])"
      ]
     },
     "execution_count": 105,
     "metadata": {},
     "output_type": "execute_result"
    }
   ],
   "source": [
    "testMatrix.dot(np.linalg.pinv(testMatrix).dot(testInput))"
   ]
  },
  {
   "cell_type": "markdown",
   "metadata": {},
   "source": [
    "V is pixel to concept mapping(the concept is the digit's attributes)"
   ]
  },
  {
   "cell_type": "code",
   "execution_count": null,
   "metadata": {},
   "outputs": [],
   "source": []
  },
  {
   "cell_type": "code",
   "execution_count": null,
   "metadata": {},
   "outputs": [],
   "source": [
    "Each eigenvector in V is a singular image()"
   ]
  }
 ],
 "metadata": {
  "kernelspec": {
   "display_name": "Python 3",
   "language": "python",
   "name": "python3"
  },
  "language_info": {
   "codemirror_mode": {
    "name": "ipython",
    "version": 3
   },
   "file_extension": ".py",
   "mimetype": "text/x-python",
   "name": "python",
   "nbconvert_exporter": "python",
   "pygments_lexer": "ipython3",
   "version": "3.7.3"
  }
 },
 "nbformat": 4,
 "nbformat_minor": 2
}
